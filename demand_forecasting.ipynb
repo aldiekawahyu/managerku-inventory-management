{
  "nbformat": 4,
  "nbformat_minor": 0,
  "metadata": {
    "colab": {
      "name": "demand_forecasting.ipynb",
      "provenance": [],
      "collapsed_sections": [],
      "toc_visible": true,
      "authorship_tag": "ABX9TyM1SS0a5GteNyT11aD2tTW4",
      "include_colab_link": true
    },
    "kernelspec": {
      "display_name": "Python 3",
      "name": "python3"
    },
    "language_info": {
      "name": "python"
    }
  },
  "cells": [
    {
      "cell_type": "markdown",
      "metadata": {
        "id": "view-in-github",
        "colab_type": "text"
      },
      "source": [
        "<a href=\"https://colab.research.google.com/github/aldiekawahyu/manajerku-inventory-management/blob/main/demand_forecasting.ipynb\" target=\"_parent\"><img src=\"https://colab.research.google.com/assets/colab-badge.svg\" alt=\"Open In Colab\"/></a>"
      ]
    },
    {
      "cell_type": "markdown",
      "metadata": {
        "id": "evD5UpHR09Ds"
      },
      "source": [
        "# Download Data\n",
        "Source: https://www.kaggle.com/felixzhao/productdemandforecasting \\\\\n",
        "Steps:\n",
        "1. Go to kaggle account and click **'Create New API Token'**. A kaggle.json file will be downloaded to your local machine.\n",
        "1. Upload the kaggle.json file into into colab\n",
        "1. Download the dataset from kaggle and unzip it"
      ]
    },
    {
      "cell_type": "code",
      "metadata": {
        "colab": {
          "resources": {
            "http://localhost:8080/nbextensions/google.colab/files.js": {
              "data": "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",
              "ok": true,
              "headers": [
                [
                  "content-type",
                  "application/javascript"
                ]
              ],
              "status": 200,
              "status_text": ""
            }
          },
          "base_uri": "https://localhost:8080/",
          "height": 144
        },
        "id": "pspdyV_f1F6u",
        "outputId": "d68be39b-3921-4627-cd38-86d57985b0cf"
      },
      "source": [
        "import os\n",
        "\n",
        "! pip install -q kaggle\n",
        "from google.colab import files\n",
        "files.upload()\n",
        "try:\n",
        "  os.makedirs('~/.kaggle')    \n",
        "  print('Directory created successfully')\n",
        "except:\n",
        "  pass\n",
        "! cp kaggle.json ~/.kaggle/\n",
        "! chmod 600 ~/.kaggle/kaggle.json\n",
        "! kaggle datasets download -d felixzhao/productdemandforecasting/\n",
        "! unzip productdemandforecasting.zip"
      ],
      "execution_count": 49,
      "outputs": [
        {
          "output_type": "display_data",
          "data": {
            "text/html": [
              "\n",
              "     <input type=\"file\" id=\"files-2c4cd85c-86a5-4e75-863c-3145aa4c12f2\" name=\"files[]\" multiple disabled\n",
              "        style=\"border:none\" />\n",
              "     <output id=\"result-2c4cd85c-86a5-4e75-863c-3145aa4c12f2\">\n",
              "      Upload widget is only available when the cell has been executed in the\n",
              "      current browser session. Please rerun this cell to enable.\n",
              "      </output>\n",
              "      <script src=\"/nbextensions/google.colab/files.js\"></script> "
            ],
            "text/plain": [
              "<IPython.core.display.HTML object>"
            ]
          },
          "metadata": {
            "tags": []
          }
        },
        {
          "output_type": "stream",
          "text": [
            "Saving kaggle.json to kaggle (1).json\n",
            "productdemandforecasting.zip: Skipping, found more recently modified local copy (use --force to force download)\n",
            "Archive:  productdemandforecasting.zip\n",
            "replace Historical Product Demand.csv? [y]es, [n]o, [A]ll, [N]one, [r]ename: y\n",
            "  inflating: Historical Product Demand.csv  \n"
          ],
          "name": "stdout"
        }
      ]
    },
    {
      "cell_type": "markdown",
      "metadata": {
        "id": "AZFLHPDv7DOq"
      },
      "source": [
        "# Start Exploratory Data Analysis"
      ]
    },
    {
      "cell_type": "markdown",
      "metadata": {
        "id": "oEGRRISRj-Pw"
      },
      "source": [
        "## Check Missing Value and Object Type"
      ]
    },
    {
      "cell_type": "markdown",
      "metadata": {
        "id": "51ftQuEp773g"
      },
      "source": [
        "First, open the csv file as pandas dataframe file then check if there are missing values."
      ]
    },
    {
      "cell_type": "code",
      "metadata": {
        "colab": {
          "base_uri": "https://localhost:8080/",
          "height": 215
        },
        "id": "1V-Taml32sa4",
        "outputId": "852bf843-382a-4b2e-8d96-f4884cab965f"
      },
      "source": [
        "import pandas as pd\n",
        "\n",
        "df = pd.read_csv('Historical Product Demand.csv')\n",
        "print('Dataframe length: {}'.format(len(df)))\n",
        "df.head()"
      ],
      "execution_count": 108,
      "outputs": [
        {
          "output_type": "stream",
          "text": [
            "Dataframe length: 1048575\n"
          ],
          "name": "stdout"
        },
        {
          "output_type": "execute_result",
          "data": {
            "text/html": [
              "<div>\n",
              "<style scoped>\n",
              "    .dataframe tbody tr th:only-of-type {\n",
              "        vertical-align: middle;\n",
              "    }\n",
              "\n",
              "    .dataframe tbody tr th {\n",
              "        vertical-align: top;\n",
              "    }\n",
              "\n",
              "    .dataframe thead th {\n",
              "        text-align: right;\n",
              "    }\n",
              "</style>\n",
              "<table border=\"1\" class=\"dataframe\">\n",
              "  <thead>\n",
              "    <tr style=\"text-align: right;\">\n",
              "      <th></th>\n",
              "      <th>Product_Code</th>\n",
              "      <th>Warehouse</th>\n",
              "      <th>Product_Category</th>\n",
              "      <th>Date</th>\n",
              "      <th>Order_Demand</th>\n",
              "    </tr>\n",
              "  </thead>\n",
              "  <tbody>\n",
              "    <tr>\n",
              "      <th>0</th>\n",
              "      <td>Product_0993</td>\n",
              "      <td>Whse_J</td>\n",
              "      <td>Category_028</td>\n",
              "      <td>2012/7/27</td>\n",
              "      <td>100</td>\n",
              "    </tr>\n",
              "    <tr>\n",
              "      <th>1</th>\n",
              "      <td>Product_0979</td>\n",
              "      <td>Whse_J</td>\n",
              "      <td>Category_028</td>\n",
              "      <td>2012/1/19</td>\n",
              "      <td>500</td>\n",
              "    </tr>\n",
              "    <tr>\n",
              "      <th>2</th>\n",
              "      <td>Product_0979</td>\n",
              "      <td>Whse_J</td>\n",
              "      <td>Category_028</td>\n",
              "      <td>2012/2/3</td>\n",
              "      <td>500</td>\n",
              "    </tr>\n",
              "    <tr>\n",
              "      <th>3</th>\n",
              "      <td>Product_0979</td>\n",
              "      <td>Whse_J</td>\n",
              "      <td>Category_028</td>\n",
              "      <td>2012/2/9</td>\n",
              "      <td>500</td>\n",
              "    </tr>\n",
              "    <tr>\n",
              "      <th>4</th>\n",
              "      <td>Product_0979</td>\n",
              "      <td>Whse_J</td>\n",
              "      <td>Category_028</td>\n",
              "      <td>2012/3/2</td>\n",
              "      <td>500</td>\n",
              "    </tr>\n",
              "  </tbody>\n",
              "</table>\n",
              "</div>"
            ],
            "text/plain": [
              "   Product_Code Warehouse Product_Category       Date Order_Demand\n",
              "0  Product_0993    Whse_J     Category_028  2012/7/27         100 \n",
              "1  Product_0979    Whse_J     Category_028  2012/1/19         500 \n",
              "2  Product_0979    Whse_J     Category_028   2012/2/3         500 \n",
              "3  Product_0979    Whse_J     Category_028   2012/2/9         500 \n",
              "4  Product_0979    Whse_J     Category_028   2012/3/2         500 "
            ]
          },
          "metadata": {
            "tags": []
          },
          "execution_count": 108
        }
      ]
    },
    {
      "cell_type": "markdown",
      "metadata": {
        "id": "zifNnxZPMl2H"
      },
      "source": [
        "Check the number of missing value per column."
      ]
    },
    {
      "cell_type": "code",
      "metadata": {
        "colab": {
          "base_uri": "https://localhost:8080/"
        },
        "id": "N1yWBXhm7Qls",
        "outputId": "2404b9cb-5c01-4f7a-8f6f-fe6a8662ac0b"
      },
      "source": [
        "df.isnull().sum()"
      ],
      "execution_count": 109,
      "outputs": [
        {
          "output_type": "execute_result",
          "data": {
            "text/plain": [
              "Product_Code            0\n",
              "Warehouse               0\n",
              "Product_Category        0\n",
              "Date                11239\n",
              "Order_Demand            0\n",
              "dtype: int64"
            ]
          },
          "metadata": {
            "tags": []
          },
          "execution_count": 109
        }
      ]
    },
    {
      "cell_type": "markdown",
      "metadata": {
        "id": "pDbAuOsNMoYp"
      },
      "source": [
        "Proportion of missing value per column."
      ]
    },
    {
      "cell_type": "code",
      "metadata": {
        "colab": {
          "base_uri": "https://localhost:8080/"
        },
        "id": "IPXqA9c7MKgQ",
        "outputId": "3872d7e2-e83b-4780-c60f-5e3a8f6ec838"
      },
      "source": [
        "df.isnull().sum()/len(df)"
      ],
      "execution_count": 110,
      "outputs": [
        {
          "output_type": "execute_result",
          "data": {
            "text/plain": [
              "Product_Code        0.000000\n",
              "Warehouse           0.000000\n",
              "Product_Category    0.000000\n",
              "Date                0.010718\n",
              "Order_Demand        0.000000\n",
              "dtype: float64"
            ]
          },
          "metadata": {
            "tags": []
          },
          "execution_count": 110
        }
      ]
    },
    {
      "cell_type": "markdown",
      "metadata": {
        "id": "77AYJnmqAYGp"
      },
      "source": [
        "It can be seen that there are missing values in *Date* column. We are going to handle this by **dropping rows containing missing value**, because date is non-numerical value thus it cannot be imputed."
      ]
    },
    {
      "cell_type": "code",
      "metadata": {
        "colab": {
          "base_uri": "https://localhost:8080/"
        },
        "id": "if5uzxWPkH7j",
        "outputId": "42538e87-69d4-4576-a998-9d34822fde5f"
      },
      "source": [
        "print('Length before dropping: {}'.format(len(df)))\n",
        "df = df.dropna(axis='rows')\n",
        "print('Length after dropping: {}'.format(len(df)))"
      ],
      "execution_count": 111,
      "outputs": [
        {
          "output_type": "stream",
          "text": [
            "Length before dropping: 1048575\n",
            "Length after dropping: 1037336\n"
          ],
          "name": "stdout"
        }
      ]
    },
    {
      "cell_type": "markdown",
      "metadata": {
        "id": "tlEMox7uA41I"
      },
      "source": [
        "Next, we will check the type of each column of the data frame and convert the type of *Order_Demand* column if it is non-numeric."
      ]
    },
    {
      "cell_type": "code",
      "metadata": {
        "colab": {
          "base_uri": "https://localhost:8080/"
        },
        "id": "ObmSm2HLAD3Q",
        "outputId": "274e0c7d-25d9-4490-8fe0-7ce03b90e173"
      },
      "source": [
        "df.dtypes"
      ],
      "execution_count": 112,
      "outputs": [
        {
          "output_type": "execute_result",
          "data": {
            "text/plain": [
              "Product_Code        object\n",
              "Warehouse           object\n",
              "Product_Category    object\n",
              "Date                object\n",
              "Order_Demand        object\n",
              "dtype: object"
            ]
          },
          "metadata": {
            "tags": []
          },
          "execution_count": 112
        }
      ]
    },
    {
      "cell_type": "markdown",
      "metadata": {
        "id": "YwKxv_CKGjOq"
      },
      "source": [
        "We see that *Order_Demand* column is not a float, so there must be something about the number. Let's try to convert it into float."
      ]
    },
    {
      "cell_type": "code",
      "metadata": {
        "colab": {
          "base_uri": "https://localhost:8080/"
        },
        "id": "3li4rbVAAEmS",
        "outputId": "89bceb4a-b049-43d2-ac0f-a84ab844a2db"
      },
      "source": [
        "try:\n",
        "  df[\"Order_Demand\"] = pd.to_numeric(df[\"Order_Demand\"], downcast=\"float\")\n",
        "  print('Conversion succeeded')\n",
        "except ValueError as e:\n",
        "  print('Cannot do conversion: ',e)"
      ],
      "execution_count": 113,
      "outputs": [
        {
          "output_type": "stream",
          "text": [
            "Cannot do conversion:  Unable to parse string \"(1)\" at position 112289\n"
          ],
          "name": "stdout"
        }
      ]
    },
    {
      "cell_type": "markdown",
      "metadata": {
        "id": "sPS0jhUyHnSI"
      },
      "source": [
        "We see an indication that several numbers in *Order_Demand* column are written in parentheses, so we need to remove the parentheses."
      ]
    },
    {
      "cell_type": "code",
      "metadata": {
        "id": "X0YibxyRHmic"
      },
      "source": [
        "def remove_parentheses(x):\n",
        "  import re\n",
        "  return re.sub('[()]', '', x)\n",
        "\n",
        "df[\"Order_Demand\"] = df[\"Order_Demand\"].apply(remove_parentheses)"
      ],
      "execution_count": 114,
      "outputs": []
    },
    {
      "cell_type": "markdown",
      "metadata": {
        "id": "mndQefMrjlwX"
      },
      "source": [
        "Lets try doing conversion again."
      ]
    },
    {
      "cell_type": "code",
      "metadata": {
        "colab": {
          "base_uri": "https://localhost:8080/"
        },
        "id": "9aP2OqQXjsR-",
        "outputId": "8feb6e60-ed93-432e-8c5b-a1442caf4761"
      },
      "source": [
        "try:\n",
        "  df[\"Order_Demand\"] = pd.to_numeric(df[\"Order_Demand\"], downcast=\"float\")\n",
        "  print('Conversion succeeded')\n",
        "except ValueError as e:\n",
        "  print('Cannot do conversion: ',e)\n",
        "\n",
        "df.dtypes"
      ],
      "execution_count": 115,
      "outputs": [
        {
          "output_type": "stream",
          "text": [
            "Conversion succeeded\n"
          ],
          "name": "stdout"
        },
        {
          "output_type": "execute_result",
          "data": {
            "text/plain": [
              "Product_Code         object\n",
              "Warehouse            object\n",
              "Product_Category     object\n",
              "Date                 object\n",
              "Order_Demand        float32\n",
              "dtype: object"
            ]
          },
          "metadata": {
            "tags": []
          },
          "execution_count": 115
        }
      ]
    },
    {
      "cell_type": "markdown",
      "metadata": {
        "id": "vueP3wDej1Ev"
      },
      "source": [
        "The *Order_Demand* column is already converted to float. Next we are going to convert *Date* column to datetime."
      ]
    },
    {
      "cell_type": "code",
      "metadata": {
        "colab": {
          "base_uri": "https://localhost:8080/"
        },
        "id": "KQa4w9xEpIac",
        "outputId": "66cf2740-7f94-4c84-f6de-d14b99b7ecba"
      },
      "source": [
        "df.Date = pd.to_datetime(df.Date)\n",
        "df.dtypes"
      ],
      "execution_count": 116,
      "outputs": [
        {
          "output_type": "execute_result",
          "data": {
            "text/plain": [
              "Product_Code                object\n",
              "Warehouse                   object\n",
              "Product_Category            object\n",
              "Date                datetime64[ns]\n",
              "Order_Demand               float32\n",
              "dtype: object"
            ]
          },
          "metadata": {
            "tags": []
          },
          "execution_count": 116
        }
      ]
    },
    {
      "cell_type": "code",
      "metadata": {
        "colab": {
          "base_uri": "https://localhost:8080/",
          "height": 197
        },
        "id": "CT5GJ9lQpZbU",
        "outputId": "14c1e9fd-78b6-4db8-8d05-c098941432ac"
      },
      "source": [
        "df.head()"
      ],
      "execution_count": 117,
      "outputs": [
        {
          "output_type": "execute_result",
          "data": {
            "text/html": [
              "<div>\n",
              "<style scoped>\n",
              "    .dataframe tbody tr th:only-of-type {\n",
              "        vertical-align: middle;\n",
              "    }\n",
              "\n",
              "    .dataframe tbody tr th {\n",
              "        vertical-align: top;\n",
              "    }\n",
              "\n",
              "    .dataframe thead th {\n",
              "        text-align: right;\n",
              "    }\n",
              "</style>\n",
              "<table border=\"1\" class=\"dataframe\">\n",
              "  <thead>\n",
              "    <tr style=\"text-align: right;\">\n",
              "      <th></th>\n",
              "      <th>Product_Code</th>\n",
              "      <th>Warehouse</th>\n",
              "      <th>Product_Category</th>\n",
              "      <th>Date</th>\n",
              "      <th>Order_Demand</th>\n",
              "    </tr>\n",
              "  </thead>\n",
              "  <tbody>\n",
              "    <tr>\n",
              "      <th>0</th>\n",
              "      <td>Product_0993</td>\n",
              "      <td>Whse_J</td>\n",
              "      <td>Category_028</td>\n",
              "      <td>2012-07-27</td>\n",
              "      <td>100.0</td>\n",
              "    </tr>\n",
              "    <tr>\n",
              "      <th>1</th>\n",
              "      <td>Product_0979</td>\n",
              "      <td>Whse_J</td>\n",
              "      <td>Category_028</td>\n",
              "      <td>2012-01-19</td>\n",
              "      <td>500.0</td>\n",
              "    </tr>\n",
              "    <tr>\n",
              "      <th>2</th>\n",
              "      <td>Product_0979</td>\n",
              "      <td>Whse_J</td>\n",
              "      <td>Category_028</td>\n",
              "      <td>2012-02-03</td>\n",
              "      <td>500.0</td>\n",
              "    </tr>\n",
              "    <tr>\n",
              "      <th>3</th>\n",
              "      <td>Product_0979</td>\n",
              "      <td>Whse_J</td>\n",
              "      <td>Category_028</td>\n",
              "      <td>2012-02-09</td>\n",
              "      <td>500.0</td>\n",
              "    </tr>\n",
              "    <tr>\n",
              "      <th>4</th>\n",
              "      <td>Product_0979</td>\n",
              "      <td>Whse_J</td>\n",
              "      <td>Category_028</td>\n",
              "      <td>2012-03-02</td>\n",
              "      <td>500.0</td>\n",
              "    </tr>\n",
              "  </tbody>\n",
              "</table>\n",
              "</div>"
            ],
            "text/plain": [
              "   Product_Code Warehouse Product_Category       Date  Order_Demand\n",
              "0  Product_0993    Whse_J     Category_028 2012-07-27         100.0\n",
              "1  Product_0979    Whse_J     Category_028 2012-01-19         500.0\n",
              "2  Product_0979    Whse_J     Category_028 2012-02-03         500.0\n",
              "3  Product_0979    Whse_J     Category_028 2012-02-09         500.0\n",
              "4  Product_0979    Whse_J     Category_028 2012-03-02         500.0"
            ]
          },
          "metadata": {
            "tags": []
          },
          "execution_count": 117
        }
      ]
    },
    {
      "cell_type": "markdown",
      "metadata": {
        "id": "1_Ml1RLkpfrz"
      },
      "source": [
        "The *Date* column is already converted to datetime. Lets check the first and the last date of the dataset."
      ]
    },
    {
      "cell_type": "code",
      "metadata": {
        "colab": {
          "base_uri": "https://localhost:8080/"
        },
        "id": "UL0JxxP9jWoN",
        "outputId": "1c07b0fc-a779-47af-8120-78008cfe576e"
      },
      "source": [
        "first_date = df['Date'].min()\n",
        "last_date = df['Date'].max()\n",
        "\n",
        "print('First date: %s' % first_date)\n",
        "print('Last date: %s' % last_date)"
      ],
      "execution_count": 118,
      "outputs": [
        {
          "output_type": "stream",
          "text": [
            "First date: 2011-01-08 00:00:00\n",
            "Last date: 2017-01-09 00:00:00\n"
          ],
          "name": "stdout"
        }
      ]
    },
    {
      "cell_type": "markdown",
      "metadata": {
        "id": "b_IvvGbUrULZ"
      },
      "source": [
        "## Get Unique Value of *Product_Code*,\t*Warehouse* and\t*Product_Category*"
      ]
    },
    {
      "cell_type": "code",
      "metadata": {
        "id": "4fI_XJQuisRC",
        "colab": {
          "base_uri": "https://localhost:8080/"
        },
        "outputId": "0121ccd2-75b2-409e-b05b-8ca6c316b7d6"
      },
      "source": [
        "# Products\n",
        "product_code = sorted(df['Product_Code'].unique().tolist())\n",
        "print('Number of product: {}'.format(len(product_code)))\n",
        "\n",
        "# Warehouses\n",
        "warehouse = sorted(df['Warehouse'].unique().tolist())\n",
        "print('Number of warehouse: {}'.format(len(warehouse)))\n",
        "\n",
        "# Product category\n",
        "product_category = sorted(df['Product_Category'].unique().tolist())\n",
        "print('Number of product category: {}'.format(len(product_category)))"
      ],
      "execution_count": 119,
      "outputs": [
        {
          "output_type": "stream",
          "text": [
            "Number of product: 2160\n",
            "Number of warehouse: 4\n",
            "Number of product category: 33\n"
          ],
          "name": "stdout"
        }
      ]
    },
    {
      "cell_type": "markdown",
      "metadata": {
        "id": "7ckeX1H5m8L9"
      },
      "source": [
        "## Check Total Number of Product per Category"
      ]
    },
    {
      "cell_type": "code",
      "metadata": {
        "colab": {
          "base_uri": "https://localhost:8080/"
        },
        "id": "5GpWYUfalxze",
        "outputId": "d193b518-4b99-497e-d1d9-ea1a5636abd6"
      },
      "source": [
        "sample = 10\n",
        "product_per_category = df.groupby(['Product_Category'])['Product_Code'].nunique()\n",
        "print(\"Total number of product per each category for first {} category \\n{}\".format(sample, product_per_category[:sample]))"
      ],
      "execution_count": 120,
      "outputs": [
        {
          "output_type": "stream",
          "text": [
            "Total number of product per each category for first 10 category \n",
            "Product_Category\n",
            "Category_001    278\n",
            "Category_002      1\n",
            "Category_003     12\n",
            "Category_004      1\n",
            "Category_005    185\n",
            "Category_006    112\n",
            "Category_007    141\n",
            "Category_008      7\n",
            "Category_009    102\n",
            "Category_010      7\n",
            "Name: Product_Code, dtype: int64\n"
          ],
          "name": "stdout"
        }
      ]
    },
    {
      "cell_type": "markdown",
      "metadata": {
        "id": "kiw6zcSm2Ywf"
      },
      "source": [
        "## Check Total Date (or days) per Product"
      ]
    },
    {
      "cell_type": "code",
      "metadata": {
        "colab": {
          "base_uri": "https://localhost:8080/"
        },
        "id": "X5powuUU2k9-",
        "outputId": "78b29b55-d88f-45c4-8336-35cdaed0f84a"
      },
      "source": [
        "days_per_product = df.groupby(['Product_Code'])['Date'].nunique()\n",
        "print(\"Total number of days per product: \\n{}\".format(days_per_product))"
      ],
      "execution_count": 121,
      "outputs": [
        {
          "output_type": "stream",
          "text": [
            "Total number of days per product: \n",
            "Product_Code\n",
            "Product_0001    469\n",
            "Product_0002    341\n",
            "Product_0003    275\n",
            "Product_0004    267\n",
            "Product_0005     52\n",
            "               ... \n",
            "Product_2168    647\n",
            "Product_2169    571\n",
            "Product_2170    173\n",
            "Product_2171    509\n",
            "Product_2172     46\n",
            "Name: Date, Length: 2160, dtype: int64\n"
          ],
          "name": "stdout"
        }
      ]
    },
    {
      "cell_type": "markdown",
      "metadata": {
        "id": "k2Yo8DTA3kWe"
      },
      "source": [
        "We can see that each product has a different amount of record."
      ]
    },
    {
      "cell_type": "markdown",
      "metadata": {
        "id": "pag_dl40muhu"
      },
      "source": [
        "## Inspect the Demand Aggregate of Each Product Category"
      ]
    },
    {
      "cell_type": "code",
      "metadata": {
        "colab": {
          "base_uri": "https://localhost:8080/",
          "height": 466
        },
        "id": "W7uijUNslxU-",
        "outputId": "a9ddf99a-836a-4988-df71-93bbc93f2e05"
      },
      "source": [
        "df.groupby([\"Product_Category\", \"Product_Code\"]).agg({\"Order_Demand\": [\"sum\", \"mean\", \"median\", \"std\"]})"
      ],
      "execution_count": 122,
      "outputs": [
        {
          "output_type": "execute_result",
          "data": {
            "text/html": [
              "<div>\n",
              "<style scoped>\n",
              "    .dataframe tbody tr th:only-of-type {\n",
              "        vertical-align: middle;\n",
              "    }\n",
              "\n",
              "    .dataframe tbody tr th {\n",
              "        vertical-align: top;\n",
              "    }\n",
              "\n",
              "    .dataframe thead tr th {\n",
              "        text-align: left;\n",
              "    }\n",
              "\n",
              "    .dataframe thead tr:last-of-type th {\n",
              "        text-align: right;\n",
              "    }\n",
              "</style>\n",
              "<table border=\"1\" class=\"dataframe\">\n",
              "  <thead>\n",
              "    <tr>\n",
              "      <th></th>\n",
              "      <th></th>\n",
              "      <th colspan=\"4\" halign=\"left\">Order_Demand</th>\n",
              "    </tr>\n",
              "    <tr>\n",
              "      <th></th>\n",
              "      <th></th>\n",
              "      <th>sum</th>\n",
              "      <th>mean</th>\n",
              "      <th>median</th>\n",
              "      <th>std</th>\n",
              "    </tr>\n",
              "    <tr>\n",
              "      <th>Product_Category</th>\n",
              "      <th>Product_Code</th>\n",
              "      <th></th>\n",
              "      <th></th>\n",
              "      <th></th>\n",
              "      <th></th>\n",
              "    </tr>\n",
              "  </thead>\n",
              "  <tbody>\n",
              "    <tr>\n",
              "      <th rowspan=\"5\" valign=\"top\">Category_001</th>\n",
              "      <th>Product_0256</th>\n",
              "      <td>371.0</td>\n",
              "      <td>1.641593</td>\n",
              "      <td>1.0</td>\n",
              "      <td>1.493644</td>\n",
              "    </tr>\n",
              "    <tr>\n",
              "      <th>Product_0257</th>\n",
              "      <td>177.0</td>\n",
              "      <td>1.638889</td>\n",
              "      <td>1.0</td>\n",
              "      <td>0.999611</td>\n",
              "    </tr>\n",
              "    <tr>\n",
              "      <th>Product_0258</th>\n",
              "      <td>298.0</td>\n",
              "      <td>2.083916</td>\n",
              "      <td>2.0</td>\n",
              "      <td>1.859488</td>\n",
              "    </tr>\n",
              "    <tr>\n",
              "      <th>Product_0259</th>\n",
              "      <td>205.0</td>\n",
              "      <td>2.277778</td>\n",
              "      <td>2.0</td>\n",
              "      <td>1.735471</td>\n",
              "    </tr>\n",
              "    <tr>\n",
              "      <th>Product_0260</th>\n",
              "      <td>1729.0</td>\n",
              "      <td>11.761905</td>\n",
              "      <td>3.0</td>\n",
              "      <td>16.716546</td>\n",
              "    </tr>\n",
              "    <tr>\n",
              "      <th>...</th>\n",
              "      <th>...</th>\n",
              "      <td>...</td>\n",
              "      <td>...</td>\n",
              "      <td>...</td>\n",
              "      <td>...</td>\n",
              "    </tr>\n",
              "    <tr>\n",
              "      <th>Category_032</th>\n",
              "      <th>Product_1101</th>\n",
              "      <td>3394000.0</td>\n",
              "      <td>14082.987305</td>\n",
              "      <td>10000.0</td>\n",
              "      <td>17006.658040</td>\n",
              "    </tr>\n",
              "    <tr>\n",
              "      <th rowspan=\"4\" valign=\"top\">Category_033</th>\n",
              "      <th>Product_1282</th>\n",
              "      <td>9710000.0</td>\n",
              "      <td>21108.695312</td>\n",
              "      <td>20000.0</td>\n",
              "      <td>15091.194479</td>\n",
              "    </tr>\n",
              "    <tr>\n",
              "      <th>Product_1361</th>\n",
              "      <td>28190000.0</td>\n",
              "      <td>29334.027344</td>\n",
              "      <td>10000.0</td>\n",
              "      <td>35133.284570</td>\n",
              "    </tr>\n",
              "    <tr>\n",
              "      <th>Product_1362</th>\n",
              "      <td>1290000.0</td>\n",
              "      <td>10000.000000</td>\n",
              "      <td>10000.0</td>\n",
              "      <td>1250.000000</td>\n",
              "    </tr>\n",
              "    <tr>\n",
              "      <th>Product_1363</th>\n",
              "      <td>3420000.0</td>\n",
              "      <td>11438.126953</td>\n",
              "      <td>10000.0</td>\n",
              "      <td>7254.159962</td>\n",
              "    </tr>\n",
              "  </tbody>\n",
              "</table>\n",
              "<p>2160 rows × 4 columns</p>\n",
              "</div>"
            ],
            "text/plain": [
              "                              Order_Demand                                     \n",
              "                                       sum          mean   median           std\n",
              "Product_Category Product_Code                                                  \n",
              "Category_001     Product_0256        371.0      1.641593      1.0      1.493644\n",
              "                 Product_0257        177.0      1.638889      1.0      0.999611\n",
              "                 Product_0258        298.0      2.083916      2.0      1.859488\n",
              "                 Product_0259        205.0      2.277778      2.0      1.735471\n",
              "                 Product_0260       1729.0     11.761905      3.0     16.716546\n",
              "...                                    ...           ...      ...           ...\n",
              "Category_032     Product_1101    3394000.0  14082.987305  10000.0  17006.658040\n",
              "Category_033     Product_1282    9710000.0  21108.695312  20000.0  15091.194479\n",
              "                 Product_1361   28190000.0  29334.027344  10000.0  35133.284570\n",
              "                 Product_1362    1290000.0  10000.000000  10000.0   1250.000000\n",
              "                 Product_1363    3420000.0  11438.126953  10000.0   7254.159962\n",
              "\n",
              "[2160 rows x 4 columns]"
            ]
          },
          "metadata": {
            "tags": []
          },
          "execution_count": 122
        }
      ]
    },
    {
      "cell_type": "markdown",
      "metadata": {
        "id": "raemRvmIuifC"
      },
      "source": [
        "## Sort Data based on the Date"
      ]
    },
    {
      "cell_type": "code",
      "metadata": {
        "colab": {
          "base_uri": "https://localhost:8080/",
          "height": 215
        },
        "id": "WCzOn-g7uk7i",
        "outputId": "008b6732-e07c-482b-cb47-29b8aaf1e786"
      },
      "source": [
        "df = df.sort_values(by=\"Date\")\n",
        "print('Dataframe length: {}'.format(len(df)))\n",
        "df.head()"
      ],
      "execution_count": 220,
      "outputs": [
        {
          "output_type": "stream",
          "text": [
            "Dataframe length: 1036696\n"
          ],
          "name": "stdout"
        },
        {
          "output_type": "execute_result",
          "data": {
            "text/html": [
              "<div>\n",
              "<style scoped>\n",
              "    .dataframe tbody tr th:only-of-type {\n",
              "        vertical-align: middle;\n",
              "    }\n",
              "\n",
              "    .dataframe tbody tr th {\n",
              "        vertical-align: top;\n",
              "    }\n",
              "\n",
              "    .dataframe thead th {\n",
              "        text-align: right;\n",
              "    }\n",
              "</style>\n",
              "<table border=\"1\" class=\"dataframe\">\n",
              "  <thead>\n",
              "    <tr style=\"text-align: right;\">\n",
              "      <th></th>\n",
              "      <th>Product_Code</th>\n",
              "      <th>Warehouse</th>\n",
              "      <th>Product_Category</th>\n",
              "      <th>Date</th>\n",
              "      <th>Order_Demand</th>\n",
              "    </tr>\n",
              "  </thead>\n",
              "  <tbody>\n",
              "    <tr>\n",
              "      <th>130870</th>\n",
              "      <td>Product_2166</td>\n",
              "      <td>Whse_S</td>\n",
              "      <td>Category_024</td>\n",
              "      <td>2012-01-01</td>\n",
              "      <td>2.0</td>\n",
              "    </tr>\n",
              "    <tr>\n",
              "      <th>77217</th>\n",
              "      <td>Product_1343</td>\n",
              "      <td>Whse_S</td>\n",
              "      <td>Category_019</td>\n",
              "      <td>2012-01-02</td>\n",
              "      <td>5000.0</td>\n",
              "    </tr>\n",
              "    <tr>\n",
              "      <th>77218</th>\n",
              "      <td>Product_1433</td>\n",
              "      <td>Whse_S</td>\n",
              "      <td>Category_019</td>\n",
              "      <td>2012-01-02</td>\n",
              "      <td>2000.0</td>\n",
              "    </tr>\n",
              "    <tr>\n",
              "      <th>75883</th>\n",
              "      <td>Product_1432</td>\n",
              "      <td>Whse_S</td>\n",
              "      <td>Category_019</td>\n",
              "      <td>2012-01-02</td>\n",
              "      <td>30000.0</td>\n",
              "    </tr>\n",
              "    <tr>\n",
              "      <th>75882</th>\n",
              "      <td>Product_1342</td>\n",
              "      <td>Whse_S</td>\n",
              "      <td>Category_019</td>\n",
              "      <td>2012-01-02</td>\n",
              "      <td>50000.0</td>\n",
              "    </tr>\n",
              "  </tbody>\n",
              "</table>\n",
              "</div>"
            ],
            "text/plain": [
              "        Product_Code Warehouse Product_Category       Date  Order_Demand\n",
              "130870  Product_2166    Whse_S     Category_024 2012-01-01           2.0\n",
              "77217   Product_1343    Whse_S     Category_019 2012-01-02        5000.0\n",
              "77218   Product_1433    Whse_S     Category_019 2012-01-02        2000.0\n",
              "75883   Product_1432    Whse_S     Category_019 2012-01-02       30000.0\n",
              "75882   Product_1342    Whse_S     Category_019 2012-01-02       50000.0"
            ]
          },
          "metadata": {
            "tags": []
          },
          "execution_count": 220
        }
      ]
    },
    {
      "cell_type": "markdown",
      "metadata": {
        "id": "qjHNp9m20QvZ"
      },
      "source": [
        "Check behavior of the date."
      ]
    },
    {
      "cell_type": "code",
      "metadata": {
        "colab": {
          "base_uri": "https://localhost:8080/"
        },
        "id": "onccpTuZ0TGr",
        "outputId": "801decb4-5836-4d56-d254-6b52a51a078c"
      },
      "source": [
        "df.Date.unique()[:50]"
      ],
      "execution_count": 221,
      "outputs": [
        {
          "output_type": "execute_result",
          "data": {
            "text/plain": [
              "array(['2012-01-01T00:00:00.000000000', '2012-01-02T00:00:00.000000000',\n",
              "       '2012-01-03T00:00:00.000000000', '2012-01-04T00:00:00.000000000',\n",
              "       '2012-01-05T00:00:00.000000000', '2012-01-06T00:00:00.000000000',\n",
              "       '2012-01-08T00:00:00.000000000', '2012-01-09T00:00:00.000000000',\n",
              "       '2012-01-10T00:00:00.000000000', '2012-01-11T00:00:00.000000000',\n",
              "       '2012-01-12T00:00:00.000000000', '2012-01-13T00:00:00.000000000',\n",
              "       '2012-01-15T00:00:00.000000000', '2012-01-16T00:00:00.000000000',\n",
              "       '2012-01-17T00:00:00.000000000', '2012-01-18T00:00:00.000000000',\n",
              "       '2012-01-19T00:00:00.000000000', '2012-01-20T00:00:00.000000000',\n",
              "       '2012-01-21T00:00:00.000000000', '2012-01-22T00:00:00.000000000',\n",
              "       '2012-01-23T00:00:00.000000000', '2012-01-24T00:00:00.000000000',\n",
              "       '2012-01-25T00:00:00.000000000', '2012-01-26T00:00:00.000000000',\n",
              "       '2012-01-27T00:00:00.000000000', '2012-01-28T00:00:00.000000000',\n",
              "       '2012-01-29T00:00:00.000000000', '2012-01-30T00:00:00.000000000',\n",
              "       '2012-01-31T00:00:00.000000000', '2012-02-01T00:00:00.000000000',\n",
              "       '2012-02-02T00:00:00.000000000', '2012-02-03T00:00:00.000000000',\n",
              "       '2012-02-05T00:00:00.000000000', '2012-02-06T00:00:00.000000000',\n",
              "       '2012-02-07T00:00:00.000000000', '2012-02-08T00:00:00.000000000',\n",
              "       '2012-02-09T00:00:00.000000000', '2012-02-10T00:00:00.000000000',\n",
              "       '2012-02-11T00:00:00.000000000', '2012-02-12T00:00:00.000000000',\n",
              "       '2012-02-13T00:00:00.000000000', '2012-02-14T00:00:00.000000000',\n",
              "       '2012-02-15T00:00:00.000000000', '2012-02-16T00:00:00.000000000',\n",
              "       '2012-02-17T00:00:00.000000000', '2012-02-18T00:00:00.000000000',\n",
              "       '2012-02-19T00:00:00.000000000', '2012-02-20T00:00:00.000000000',\n",
              "       '2012-02-21T00:00:00.000000000', '2012-02-22T00:00:00.000000000'],\n",
              "      dtype='datetime64[ns]')"
            ]
          },
          "metadata": {
            "tags": []
          },
          "execution_count": 221
        }
      ]
    },
    {
      "cell_type": "markdown",
      "metadata": {
        "id": "LL0_5BtU1Tz4"
      },
      "source": [
        "We see that the records for 2011 are too few (so many missing dates). So we took data starting from January 2012 and later fill missing dates with zero."
      ]
    },
    {
      "cell_type": "code",
      "metadata": {
        "colab": {
          "base_uri": "https://localhost:8080/",
          "height": 215
        },
        "id": "dinlZAlm8pOy",
        "outputId": "d70c9e59-0d50-4441-ad85-ecb4904ca67e"
      },
      "source": [
        "df = df.loc[df.Date.dt.year >= 2012, :]\n",
        "print('Dataframe length: {}'.format(len(df)))\n",
        "df.head()"
      ],
      "execution_count": 222,
      "outputs": [
        {
          "output_type": "stream",
          "text": [
            "Dataframe length: 1036696\n"
          ],
          "name": "stdout"
        },
        {
          "output_type": "execute_result",
          "data": {
            "text/html": [
              "<div>\n",
              "<style scoped>\n",
              "    .dataframe tbody tr th:only-of-type {\n",
              "        vertical-align: middle;\n",
              "    }\n",
              "\n",
              "    .dataframe tbody tr th {\n",
              "        vertical-align: top;\n",
              "    }\n",
              "\n",
              "    .dataframe thead th {\n",
              "        text-align: right;\n",
              "    }\n",
              "</style>\n",
              "<table border=\"1\" class=\"dataframe\">\n",
              "  <thead>\n",
              "    <tr style=\"text-align: right;\">\n",
              "      <th></th>\n",
              "      <th>Product_Code</th>\n",
              "      <th>Warehouse</th>\n",
              "      <th>Product_Category</th>\n",
              "      <th>Date</th>\n",
              "      <th>Order_Demand</th>\n",
              "    </tr>\n",
              "  </thead>\n",
              "  <tbody>\n",
              "    <tr>\n",
              "      <th>130870</th>\n",
              "      <td>Product_2166</td>\n",
              "      <td>Whse_S</td>\n",
              "      <td>Category_024</td>\n",
              "      <td>2012-01-01</td>\n",
              "      <td>2.0</td>\n",
              "    </tr>\n",
              "    <tr>\n",
              "      <th>77217</th>\n",
              "      <td>Product_1343</td>\n",
              "      <td>Whse_S</td>\n",
              "      <td>Category_019</td>\n",
              "      <td>2012-01-02</td>\n",
              "      <td>5000.0</td>\n",
              "    </tr>\n",
              "    <tr>\n",
              "      <th>77218</th>\n",
              "      <td>Product_1433</td>\n",
              "      <td>Whse_S</td>\n",
              "      <td>Category_019</td>\n",
              "      <td>2012-01-02</td>\n",
              "      <td>2000.0</td>\n",
              "    </tr>\n",
              "    <tr>\n",
              "      <th>75883</th>\n",
              "      <td>Product_1432</td>\n",
              "      <td>Whse_S</td>\n",
              "      <td>Category_019</td>\n",
              "      <td>2012-01-02</td>\n",
              "      <td>30000.0</td>\n",
              "    </tr>\n",
              "    <tr>\n",
              "      <th>75882</th>\n",
              "      <td>Product_1342</td>\n",
              "      <td>Whse_S</td>\n",
              "      <td>Category_019</td>\n",
              "      <td>2012-01-02</td>\n",
              "      <td>50000.0</td>\n",
              "    </tr>\n",
              "  </tbody>\n",
              "</table>\n",
              "</div>"
            ],
            "text/plain": [
              "        Product_Code Warehouse Product_Category       Date  Order_Demand\n",
              "130870  Product_2166    Whse_S     Category_024 2012-01-01           2.0\n",
              "77217   Product_1343    Whse_S     Category_019 2012-01-02        5000.0\n",
              "77218   Product_1433    Whse_S     Category_019 2012-01-02        2000.0\n",
              "75883   Product_1432    Whse_S     Category_019 2012-01-02       30000.0\n",
              "75882   Product_1342    Whse_S     Category_019 2012-01-02       50000.0"
            ]
          },
          "metadata": {
            "tags": []
          },
          "execution_count": 222
        }
      ]
    },
    {
      "cell_type": "code",
      "metadata": {
        "colab": {
          "base_uri": "https://localhost:8080/"
        },
        "id": "C8ELcwV3_j5_",
        "outputId": "627f8472-cac1-4b17-99fa-7dc3f344b342"
      },
      "source": [
        "df.Date.unique()[:20]"
      ],
      "execution_count": 223,
      "outputs": [
        {
          "output_type": "execute_result",
          "data": {
            "text/plain": [
              "array(['2012-01-01T00:00:00.000000000', '2012-01-02T00:00:00.000000000',\n",
              "       '2012-01-03T00:00:00.000000000', '2012-01-04T00:00:00.000000000',\n",
              "       '2012-01-05T00:00:00.000000000', '2012-01-06T00:00:00.000000000',\n",
              "       '2012-01-08T00:00:00.000000000', '2012-01-09T00:00:00.000000000',\n",
              "       '2012-01-10T00:00:00.000000000', '2012-01-11T00:00:00.000000000',\n",
              "       '2012-01-12T00:00:00.000000000', '2012-01-13T00:00:00.000000000',\n",
              "       '2012-01-15T00:00:00.000000000', '2012-01-16T00:00:00.000000000',\n",
              "       '2012-01-17T00:00:00.000000000', '2012-01-18T00:00:00.000000000',\n",
              "       '2012-01-19T00:00:00.000000000', '2012-01-20T00:00:00.000000000',\n",
              "       '2012-01-21T00:00:00.000000000', '2012-01-22T00:00:00.000000000'],\n",
              "      dtype='datetime64[ns]')"
            ]
          },
          "metadata": {
            "tags": []
          },
          "execution_count": 223
        }
      ]
    },
    {
      "cell_type": "markdown",
      "metadata": {
        "id": "I4GsofSnsBuJ"
      },
      "source": [
        "## Pivot Table"
      ]
    },
    {
      "cell_type": "code",
      "metadata": {
        "id": "SdQttz4S0chT",
        "colab": {
          "base_uri": "https://localhost:8080/"
        },
        "outputId": "c5d1b368-8e62-4066-f2cb-faf73944fdbf"
      },
      "source": [
        "import numpy as np\n",
        "df_pivot = pd.pivot_table(df, values='Order_Demand', index=['Date'],\n",
        "                    columns=['Product_Code'], aggfunc=np.sum)\n",
        "df_pivot = df_pivot.fillna(0) # Fill NaN value with zero\n",
        "print(df_pivot)"
      ],
      "execution_count": 224,
      "outputs": [
        {
          "output_type": "stream",
          "text": [
            "Product_Code  Product_0001  Product_0002  ...  Product_2171  Product_2172\n",
            "Date                                      ...                            \n",
            "2012-01-01             0.0           0.0  ...           0.0           0.0\n",
            "2012-01-02             0.0           0.0  ...           0.0           0.0\n",
            "2012-01-03          1000.0           0.0  ...           0.0           0.0\n",
            "2012-01-04           200.0           0.0  ...           0.0           0.0\n",
            "2012-01-05           100.0           0.0  ...           0.0           0.0\n",
            "...                    ...           ...  ...           ...           ...\n",
            "2017-01-03             0.0           0.0  ...           0.0           0.0\n",
            "2017-01-04             0.0           0.0  ...           0.0           0.0\n",
            "2017-01-05             0.0           0.0  ...           0.0           0.0\n",
            "2017-01-06             0.0           0.0  ...           0.0           0.0\n",
            "2017-01-09             0.0           0.0  ...           0.0           0.0\n",
            "\n",
            "[1687 rows x 2160 columns]\n"
          ],
          "name": "stdout"
        }
      ]
    },
    {
      "cell_type": "code",
      "metadata": {
        "colab": {
          "base_uri": "https://localhost:8080/"
        },
        "id": "VEcmZ1ZkE4q7",
        "outputId": "8bb519b3-25b0-459d-f01c-119635c446ff"
      },
      "source": [
        "first_date_new = df_pivot.index.min()\n",
        "last_date_new = df_pivot.index.max()\n",
        "idx = pd.date_range(first_date_new, last_date_new)\n",
        "\n",
        "print('First date: %s' % first_date_new)\n",
        "print('Last date: %s' % last_date_new)"
      ],
      "execution_count": 225,
      "outputs": [
        {
          "output_type": "stream",
          "text": [
            "First date: 2012-01-01 00:00:00\n",
            "Last date: 2017-01-09 00:00:00\n"
          ],
          "name": "stdout"
        }
      ]
    },
    {
      "cell_type": "markdown",
      "metadata": {
        "id": "SJZlxDxuFLVE"
      },
      "source": [
        "We are going to **fill missing dates** in *df_pivot* with zero for every column."
      ]
    },
    {
      "cell_type": "code",
      "metadata": {
        "colab": {
          "base_uri": "https://localhost:8080/"
        },
        "id": "x5gye8Q4HcrW",
        "outputId": "30901bfb-3a32-4ca2-cd57-076293ec3f03"
      },
      "source": [
        "df_pivot = df_pivot.asfreq('D').fillna(0)\n",
        "print(df_pivot)"
      ],
      "execution_count": 226,
      "outputs": [
        {
          "output_type": "stream",
          "text": [
            "Product_Code  Product_0001  Product_0002  ...  Product_2171  Product_2172\n",
            "Date                                      ...                            \n",
            "2012-01-01             0.0           0.0  ...           0.0           0.0\n",
            "2012-01-02             0.0           0.0  ...           0.0           0.0\n",
            "2012-01-03          1000.0           0.0  ...           0.0           0.0\n",
            "2012-01-04           200.0           0.0  ...           0.0           0.0\n",
            "2012-01-05           100.0           0.0  ...           0.0           0.0\n",
            "...                    ...           ...  ...           ...           ...\n",
            "2017-01-05             0.0           0.0  ...           0.0           0.0\n",
            "2017-01-06             0.0           0.0  ...           0.0           0.0\n",
            "2017-01-07             0.0           0.0  ...           0.0           0.0\n",
            "2017-01-08             0.0           0.0  ...           0.0           0.0\n",
            "2017-01-09             0.0           0.0  ...           0.0           0.0\n",
            "\n",
            "[1836 rows x 2160 columns]\n"
          ],
          "name": "stdout"
        }
      ]
    },
    {
      "cell_type": "code",
      "metadata": {
        "id": "sQHTvLmnLZ3b"
      },
      "source": [
        "df_pivot.to_csv('Demand_per_product.csv')"
      ],
      "execution_count": 227,
      "outputs": []
    },
    {
      "cell_type": "markdown",
      "metadata": {
        "id": "rxY5EvQRI9pF"
      },
      "source": [
        "## Time Series Plot"
      ]
    },
    {
      "cell_type": "code",
      "metadata": {
        "colab": {
          "base_uri": "https://localhost:8080/",
          "height": 527
        },
        "id": "_R149lIRI_Be",
        "outputId": "c0488a09-8160-47a0-d22d-a1dce0767bb9"
      },
      "source": [
        "import matplotlib\n",
        "from matplotlib import pyplot as plt\n",
        "matplotlib.rcParams.update({'font.size': 16})\n",
        "\n",
        "fig,ax = plt.subplots(figsize=(12,8))\n",
        "for column in df_pivot:\n",
        "    plt.plot(df_pivot.index, df_pivot[column])\n",
        "ax.set_title('Time Series Plot of All Products')\n",
        "ax.set_xlabel('Years')\n",
        "ax.set_ylabel('Order Demand')\n",
        "plt.show()"
      ],
      "execution_count": 236,
      "outputs": [
        {
          "output_type": "display_data",
          "data": {
            "image/png": "[encoded data removed]",
            "text/plain": [
              "<Figure size 864x576 with 1 Axes>"
            ]
          },
          "metadata": {
            "tags": [],
            "needs_background": "light"
          }
        }
      ]
    },
    {
      "cell_type": "code",
      "metadata": {
        "id": "faEPm3bTI_EH"
      },
      "source": [
        ""
      ],
      "execution_count": null,
      "outputs": []
    },
    {
      "cell_type": "markdown",
      "metadata": {
        "id": "m45yAU5JpzOE"
      },
      "source": [
        "## Data Features"
      ]
    },
    {
      "cell_type": "code",
      "metadata": {
        "id": "Zfhu8bYrn2vk"
      },
      "source": [
        "def time_feature(df_pivot):\n",
        "  df_pivot['day'] = df_pivot.index.day\n",
        "  df_pivot['month'] = df_pivot.index.month\n",
        "  df_pivot['year'] = df_pivot.index.year\n",
        "  df_pivot['day_of_week'] = df_pivot.index.dayofweek\n",
        "  return df_pivot"
      ],
      "execution_count": 238,
      "outputs": []
    },
    {
      "cell_type": "code",
      "metadata": {
        "id": "3o05_AwRzvut",
        "colab": {
          "base_uri": "https://localhost:8080/",
          "height": 456
        },
        "outputId": "e96ead07-8da1-4da9-93a2-eefc44c54ad4"
      },
      "source": [
        "df_pivot_feature = time_feature(df_pivot)\n",
        "df_pivot_feature"
      ],
      "execution_count": 240,
      "outputs": [
        {
          "output_type": "execute_result",
          "data": {
            "text/html": [
              "<div>\n",
              "<style scoped>\n",
              "    .dataframe tbody tr th:only-of-type {\n",
              "        vertical-align: middle;\n",
              "    }\n",
              "\n",
              "    .dataframe tbody tr th {\n",
              "        vertical-align: top;\n",
              "    }\n",
              "\n",
              "    .dataframe thead th {\n",
              "        text-align: right;\n",
              "    }\n",
              "</style>\n",
              "<table border=\"1\" class=\"dataframe\">\n",
              "  <thead>\n",
              "    <tr style=\"text-align: right;\">\n",
              "      <th>Product_Code</th>\n",
              "      <th>Product_0001</th>\n",
              "      <th>Product_0002</th>\n",
              "      <th>Product_0003</th>\n",
              "      <th>Product_0004</th>\n",
              "      <th>Product_0005</th>\n",
              "      <th>Product_0006</th>\n",
              "      <th>Product_0007</th>\n",
              "      <th>Product_0008</th>\n",
              "      <th>Product_0009</th>\n",
              "      <th>Product_0010</th>\n",
              "      <th>Product_0011</th>\n",
              "      <th>Product_0012</th>\n",
              "      <th>Product_0013</th>\n",
              "      <th>Product_0014</th>\n",
              "      <th>Product_0015</th>\n",
              "      <th>Product_0016</th>\n",
              "      <th>Product_0017</th>\n",
              "      <th>Product_0018</th>\n",
              "      <th>Product_0019</th>\n",
              "      <th>Product_0020</th>\n",
              "      <th>Product_0021</th>\n",
              "      <th>Product_0022</th>\n",
              "      <th>Product_0023</th>\n",
              "      <th>Product_0024</th>\n",
              "      <th>Product_0025</th>\n",
              "      <th>Product_0026</th>\n",
              "      <th>Product_0027</th>\n",
              "      <th>Product_0028</th>\n",
              "      <th>Product_0029</th>\n",
              "      <th>Product_0030</th>\n",
              "      <th>Product_0031</th>\n",
              "      <th>Product_0032</th>\n",
              "      <th>Product_0033</th>\n",
              "      <th>Product_0034</th>\n",
              "      <th>Product_0035</th>\n",
              "      <th>Product_0036</th>\n",
              "      <th>Product_0037</th>\n",
              "      <th>Product_0038</th>\n",
              "      <th>Product_0039</th>\n",
              "      <th>Product_0040</th>\n",
              "      <th>...</th>\n",
              "      <th>Product_2137</th>\n",
              "      <th>Product_2138</th>\n",
              "      <th>Product_2139</th>\n",
              "      <th>Product_2140</th>\n",
              "      <th>Product_2141</th>\n",
              "      <th>Product_2142</th>\n",
              "      <th>Product_2143</th>\n",
              "      <th>Product_2144</th>\n",
              "      <th>Product_2145</th>\n",
              "      <th>Product_2146</th>\n",
              "      <th>Product_2147</th>\n",
              "      <th>Product_2148</th>\n",
              "      <th>Product_2149</th>\n",
              "      <th>Product_2150</th>\n",
              "      <th>Product_2151</th>\n",
              "      <th>Product_2152</th>\n",
              "      <th>Product_2153</th>\n",
              "      <th>Product_2154</th>\n",
              "      <th>Product_2155</th>\n",
              "      <th>Product_2156</th>\n",
              "      <th>Product_2157</th>\n",
              "      <th>Product_2158</th>\n",
              "      <th>Product_2159</th>\n",
              "      <th>Product_2160</th>\n",
              "      <th>Product_2161</th>\n",
              "      <th>Product_2162</th>\n",
              "      <th>Product_2163</th>\n",
              "      <th>Product_2164</th>\n",
              "      <th>Product_2165</th>\n",
              "      <th>Product_2166</th>\n",
              "      <th>Product_2167</th>\n",
              "      <th>Product_2168</th>\n",
              "      <th>Product_2169</th>\n",
              "      <th>Product_2170</th>\n",
              "      <th>Product_2171</th>\n",
              "      <th>Product_2172</th>\n",
              "      <th>day</th>\n",
              "      <th>month</th>\n",
              "      <th>year</th>\n",
              "      <th>day_of_week</th>\n",
              "    </tr>\n",
              "    <tr>\n",
              "      <th>Date</th>\n",
              "      <th></th>\n",
              "      <th></th>\n",
              "      <th></th>\n",
              "      <th></th>\n",
              "      <th></th>\n",
              "      <th></th>\n",
              "      <th></th>\n",
              "      <th></th>\n",
              "      <th></th>\n",
              "      <th></th>\n",
              "      <th></th>\n",
              "      <th></th>\n",
              "      <th></th>\n",
              "      <th></th>\n",
              "      <th></th>\n",
              "      <th></th>\n",
              "      <th></th>\n",
              "      <th></th>\n",
              "      <th></th>\n",
              "      <th></th>\n",
              "      <th></th>\n",
              "      <th></th>\n",
              "      <th></th>\n",
              "      <th></th>\n",
              "      <th></th>\n",
              "      <th></th>\n",
              "      <th></th>\n",
              "      <th></th>\n",
              "      <th></th>\n",
              "      <th></th>\n",
              "      <th></th>\n",
              "      <th></th>\n",
              "      <th></th>\n",
              "      <th></th>\n",
              "      <th></th>\n",
              "      <th></th>\n",
              "      <th></th>\n",
              "      <th></th>\n",
              "      <th></th>\n",
              "      <th></th>\n",
              "      <th></th>\n",
              "      <th></th>\n",
              "      <th></th>\n",
              "      <th></th>\n",
              "      <th></th>\n",
              "      <th></th>\n",
              "      <th></th>\n",
              "      <th></th>\n",
              "      <th></th>\n",
              "      <th></th>\n",
              "      <th></th>\n",
              "      <th></th>\n",
              "      <th></th>\n",
              "      <th></th>\n",
              "      <th></th>\n",
              "      <th></th>\n",
              "      <th></th>\n",
              "      <th></th>\n",
              "      <th></th>\n",
              "      <th></th>\n",
              "      <th></th>\n",
              "      <th></th>\n",
              "      <th></th>\n",
              "      <th></th>\n",
              "      <th></th>\n",
              "      <th></th>\n",
              "      <th></th>\n",
              "      <th></th>\n",
              "      <th></th>\n",
              "      <th></th>\n",
              "      <th></th>\n",
              "      <th></th>\n",
              "      <th></th>\n",
              "      <th></th>\n",
              "      <th></th>\n",
              "      <th></th>\n",
              "      <th></th>\n",
              "      <th></th>\n",
              "      <th></th>\n",
              "      <th></th>\n",
              "      <th></th>\n",
              "    </tr>\n",
              "  </thead>\n",
              "  <tbody>\n",
              "    <tr>\n",
              "      <th>2012-01-01</th>\n",
              "      <td>0.0</td>\n",
              "      <td>0.0</td>\n",
              "      <td>0.0</td>\n",
              "      <td>0.0</td>\n",
              "      <td>0.0</td>\n",
              "      <td>0.0</td>\n",
              "      <td>0.0</td>\n",
              "      <td>0.0</td>\n",
              "      <td>0.0</td>\n",
              "      <td>0.0</td>\n",
              "      <td>0.0</td>\n",
              "      <td>0.0</td>\n",
              "      <td>0.0</td>\n",
              "      <td>0.0</td>\n",
              "      <td>0.0</td>\n",
              "      <td>0.0</td>\n",
              "      <td>0.0</td>\n",
              "      <td>0.0</td>\n",
              "      <td>0.0</td>\n",
              "      <td>0.0</td>\n",
              "      <td>0.0</td>\n",
              "      <td>0.0</td>\n",
              "      <td>0.0</td>\n",
              "      <td>0.0</td>\n",
              "      <td>0.0</td>\n",
              "      <td>0.0</td>\n",
              "      <td>0.0</td>\n",
              "      <td>0.0</td>\n",
              "      <td>0.0</td>\n",
              "      <td>0.0</td>\n",
              "      <td>0.0</td>\n",
              "      <td>0.0</td>\n",
              "      <td>0.0</td>\n",
              "      <td>0.0</td>\n",
              "      <td>0.0</td>\n",
              "      <td>0.0</td>\n",
              "      <td>0.0</td>\n",
              "      <td>0.0</td>\n",
              "      <td>0.0</td>\n",
              "      <td>0.0</td>\n",
              "      <td>...</td>\n",
              "      <td>0.0</td>\n",
              "      <td>0.0</td>\n",
              "      <td>0.0</td>\n",
              "      <td>0.0</td>\n",
              "      <td>0.0</td>\n",
              "      <td>0.0</td>\n",
              "      <td>0.0</td>\n",
              "      <td>0.0</td>\n",
              "      <td>0.0</td>\n",
              "      <td>0.0</td>\n",
              "      <td>0.0</td>\n",
              "      <td>0.0</td>\n",
              "      <td>0.0</td>\n",
              "      <td>0.0</td>\n",
              "      <td>0.0</td>\n",
              "      <td>0.0</td>\n",
              "      <td>0.0</td>\n",
              "      <td>0.0</td>\n",
              "      <td>0.0</td>\n",
              "      <td>0.0</td>\n",
              "      <td>0.0</td>\n",
              "      <td>0.0</td>\n",
              "      <td>0.0</td>\n",
              "      <td>0.0</td>\n",
              "      <td>0.0</td>\n",
              "      <td>0.0</td>\n",
              "      <td>0.0</td>\n",
              "      <td>0.0</td>\n",
              "      <td>0.0</td>\n",
              "      <td>2.0</td>\n",
              "      <td>0.0</td>\n",
              "      <td>0.0</td>\n",
              "      <td>0.0</td>\n",
              "      <td>0.0</td>\n",
              "      <td>0.0</td>\n",
              "      <td>0.0</td>\n",
              "      <td>1</td>\n",
              "      <td>1</td>\n",
              "      <td>2012</td>\n",
              "      <td>6</td>\n",
              "    </tr>\n",
              "    <tr>\n",
              "      <th>2012-01-02</th>\n",
              "      <td>0.0</td>\n",
              "      <td>0.0</td>\n",
              "      <td>0.0</td>\n",
              "      <td>0.0</td>\n",
              "      <td>0.0</td>\n",
              "      <td>0.0</td>\n",
              "      <td>0.0</td>\n",
              "      <td>0.0</td>\n",
              "      <td>0.0</td>\n",
              "      <td>0.0</td>\n",
              "      <td>0.0</td>\n",
              "      <td>0.0</td>\n",
              "      <td>0.0</td>\n",
              "      <td>0.0</td>\n",
              "      <td>0.0</td>\n",
              "      <td>0.0</td>\n",
              "      <td>0.0</td>\n",
              "      <td>0.0</td>\n",
              "      <td>0.0</td>\n",
              "      <td>0.0</td>\n",
              "      <td>0.0</td>\n",
              "      <td>0.0</td>\n",
              "      <td>0.0</td>\n",
              "      <td>0.0</td>\n",
              "      <td>0.0</td>\n",
              "      <td>0.0</td>\n",
              "      <td>0.0</td>\n",
              "      <td>0.0</td>\n",
              "      <td>0.0</td>\n",
              "      <td>0.0</td>\n",
              "      <td>0.0</td>\n",
              "      <td>0.0</td>\n",
              "      <td>0.0</td>\n",
              "      <td>0.0</td>\n",
              "      <td>0.0</td>\n",
              "      <td>0.0</td>\n",
              "      <td>0.0</td>\n",
              "      <td>0.0</td>\n",
              "      <td>0.0</td>\n",
              "      <td>0.0</td>\n",
              "      <td>...</td>\n",
              "      <td>0.0</td>\n",
              "      <td>0.0</td>\n",
              "      <td>0.0</td>\n",
              "      <td>0.0</td>\n",
              "      <td>0.0</td>\n",
              "      <td>0.0</td>\n",
              "      <td>0.0</td>\n",
              "      <td>0.0</td>\n",
              "      <td>0.0</td>\n",
              "      <td>0.0</td>\n",
              "      <td>0.0</td>\n",
              "      <td>0.0</td>\n",
              "      <td>0.0</td>\n",
              "      <td>0.0</td>\n",
              "      <td>0.0</td>\n",
              "      <td>0.0</td>\n",
              "      <td>0.0</td>\n",
              "      <td>0.0</td>\n",
              "      <td>0.0</td>\n",
              "      <td>0.0</td>\n",
              "      <td>0.0</td>\n",
              "      <td>0.0</td>\n",
              "      <td>0.0</td>\n",
              "      <td>0.0</td>\n",
              "      <td>0.0</td>\n",
              "      <td>0.0</td>\n",
              "      <td>0.0</td>\n",
              "      <td>0.0</td>\n",
              "      <td>0.0</td>\n",
              "      <td>0.0</td>\n",
              "      <td>0.0</td>\n",
              "      <td>0.0</td>\n",
              "      <td>55.0</td>\n",
              "      <td>0.0</td>\n",
              "      <td>0.0</td>\n",
              "      <td>0.0</td>\n",
              "      <td>2</td>\n",
              "      <td>1</td>\n",
              "      <td>2012</td>\n",
              "      <td>0</td>\n",
              "    </tr>\n",
              "    <tr>\n",
              "      <th>2012-01-03</th>\n",
              "      <td>1000.0</td>\n",
              "      <td>0.0</td>\n",
              "      <td>0.0</td>\n",
              "      <td>0.0</td>\n",
              "      <td>0.0</td>\n",
              "      <td>0.0</td>\n",
              "      <td>0.0</td>\n",
              "      <td>0.0</td>\n",
              "      <td>0.0</td>\n",
              "      <td>0.0</td>\n",
              "      <td>0.0</td>\n",
              "      <td>0.0</td>\n",
              "      <td>0.0</td>\n",
              "      <td>0.0</td>\n",
              "      <td>0.0</td>\n",
              "      <td>0.0</td>\n",
              "      <td>0.0</td>\n",
              "      <td>0.0</td>\n",
              "      <td>0.0</td>\n",
              "      <td>1000.0</td>\n",
              "      <td>20000.0</td>\n",
              "      <td>0.0</td>\n",
              "      <td>0.0</td>\n",
              "      <td>0.0</td>\n",
              "      <td>0.0</td>\n",
              "      <td>0.0</td>\n",
              "      <td>0.0</td>\n",
              "      <td>0.0</td>\n",
              "      <td>0.0</td>\n",
              "      <td>0.0</td>\n",
              "      <td>1000.0</td>\n",
              "      <td>0.0</td>\n",
              "      <td>1000.0</td>\n",
              "      <td>0.0</td>\n",
              "      <td>0.0</td>\n",
              "      <td>0.0</td>\n",
              "      <td>0.0</td>\n",
              "      <td>0.0</td>\n",
              "      <td>0.0</td>\n",
              "      <td>0.0</td>\n",
              "      <td>...</td>\n",
              "      <td>0.0</td>\n",
              "      <td>1164.0</td>\n",
              "      <td>200.0</td>\n",
              "      <td>0.0</td>\n",
              "      <td>5.0</td>\n",
              "      <td>0.0</td>\n",
              "      <td>0.0</td>\n",
              "      <td>0.0</td>\n",
              "      <td>0.0</td>\n",
              "      <td>0.0</td>\n",
              "      <td>0.0</td>\n",
              "      <td>0.0</td>\n",
              "      <td>0.0</td>\n",
              "      <td>0.0</td>\n",
              "      <td>0.0</td>\n",
              "      <td>0.0</td>\n",
              "      <td>0.0</td>\n",
              "      <td>0.0</td>\n",
              "      <td>0.0</td>\n",
              "      <td>0.0</td>\n",
              "      <td>0.0</td>\n",
              "      <td>0.0</td>\n",
              "      <td>0.0</td>\n",
              "      <td>0.0</td>\n",
              "      <td>0.0</td>\n",
              "      <td>0.0</td>\n",
              "      <td>0.0</td>\n",
              "      <td>0.0</td>\n",
              "      <td>50.0</td>\n",
              "      <td>0.0</td>\n",
              "      <td>0.0</td>\n",
              "      <td>1.0</td>\n",
              "      <td>0.0</td>\n",
              "      <td>0.0</td>\n",
              "      <td>0.0</td>\n",
              "      <td>0.0</td>\n",
              "      <td>3</td>\n",
              "      <td>1</td>\n",
              "      <td>2012</td>\n",
              "      <td>1</td>\n",
              "    </tr>\n",
              "    <tr>\n",
              "      <th>2012-01-04</th>\n",
              "      <td>200.0</td>\n",
              "      <td>0.0</td>\n",
              "      <td>0.0</td>\n",
              "      <td>0.0</td>\n",
              "      <td>0.0</td>\n",
              "      <td>0.0</td>\n",
              "      <td>0.0</td>\n",
              "      <td>0.0</td>\n",
              "      <td>0.0</td>\n",
              "      <td>0.0</td>\n",
              "      <td>0.0</td>\n",
              "      <td>0.0</td>\n",
              "      <td>0.0</td>\n",
              "      <td>0.0</td>\n",
              "      <td>0.0</td>\n",
              "      <td>0.0</td>\n",
              "      <td>0.0</td>\n",
              "      <td>0.0</td>\n",
              "      <td>0.0</td>\n",
              "      <td>200.0</td>\n",
              "      <td>0.0</td>\n",
              "      <td>0.0</td>\n",
              "      <td>0.0</td>\n",
              "      <td>0.0</td>\n",
              "      <td>0.0</td>\n",
              "      <td>0.0</td>\n",
              "      <td>0.0</td>\n",
              "      <td>0.0</td>\n",
              "      <td>0.0</td>\n",
              "      <td>0.0</td>\n",
              "      <td>0.0</td>\n",
              "      <td>0.0</td>\n",
              "      <td>0.0</td>\n",
              "      <td>0.0</td>\n",
              "      <td>0.0</td>\n",
              "      <td>0.0</td>\n",
              "      <td>0.0</td>\n",
              "      <td>0.0</td>\n",
              "      <td>0.0</td>\n",
              "      <td>0.0</td>\n",
              "      <td>...</td>\n",
              "      <td>1800.0</td>\n",
              "      <td>2750.0</td>\n",
              "      <td>2410.0</td>\n",
              "      <td>0.0</td>\n",
              "      <td>20.0</td>\n",
              "      <td>1328.0</td>\n",
              "      <td>1800.0</td>\n",
              "      <td>0.0</td>\n",
              "      <td>20.0</td>\n",
              "      <td>0.0</td>\n",
              "      <td>0.0</td>\n",
              "      <td>0.0</td>\n",
              "      <td>0.0</td>\n",
              "      <td>0.0</td>\n",
              "      <td>0.0</td>\n",
              "      <td>0.0</td>\n",
              "      <td>0.0</td>\n",
              "      <td>390.0</td>\n",
              "      <td>0.0</td>\n",
              "      <td>10.0</td>\n",
              "      <td>0.0</td>\n",
              "      <td>0.0</td>\n",
              "      <td>0.0</td>\n",
              "      <td>0.0</td>\n",
              "      <td>0.0</td>\n",
              "      <td>0.0</td>\n",
              "      <td>0.0</td>\n",
              "      <td>0.0</td>\n",
              "      <td>34.0</td>\n",
              "      <td>0.0</td>\n",
              "      <td>0.0</td>\n",
              "      <td>0.0</td>\n",
              "      <td>20.0</td>\n",
              "      <td>0.0</td>\n",
              "      <td>0.0</td>\n",
              "      <td>0.0</td>\n",
              "      <td>4</td>\n",
              "      <td>1</td>\n",
              "      <td>2012</td>\n",
              "      <td>2</td>\n",
              "    </tr>\n",
              "    <tr>\n",
              "      <th>2012-01-05</th>\n",
              "      <td>100.0</td>\n",
              "      <td>0.0</td>\n",
              "      <td>0.0</td>\n",
              "      <td>0.0</td>\n",
              "      <td>0.0</td>\n",
              "      <td>0.0</td>\n",
              "      <td>0.0</td>\n",
              "      <td>3000.0</td>\n",
              "      <td>0.0</td>\n",
              "      <td>0.0</td>\n",
              "      <td>1400.0</td>\n",
              "      <td>11000.0</td>\n",
              "      <td>0.0</td>\n",
              "      <td>0.0</td>\n",
              "      <td>1000.0</td>\n",
              "      <td>100.0</td>\n",
              "      <td>200.0</td>\n",
              "      <td>100.0</td>\n",
              "      <td>0.0</td>\n",
              "      <td>1100.0</td>\n",
              "      <td>500.0</td>\n",
              "      <td>0.0</td>\n",
              "      <td>0.0</td>\n",
              "      <td>0.0</td>\n",
              "      <td>1600.0</td>\n",
              "      <td>0.0</td>\n",
              "      <td>50.0</td>\n",
              "      <td>0.0</td>\n",
              "      <td>0.0</td>\n",
              "      <td>0.0</td>\n",
              "      <td>8300.0</td>\n",
              "      <td>0.0</td>\n",
              "      <td>4000.0</td>\n",
              "      <td>0.0</td>\n",
              "      <td>0.0</td>\n",
              "      <td>2000.0</td>\n",
              "      <td>2000.0</td>\n",
              "      <td>0.0</td>\n",
              "      <td>200.0</td>\n",
              "      <td>0.0</td>\n",
              "      <td>...</td>\n",
              "      <td>0.0</td>\n",
              "      <td>300.0</td>\n",
              "      <td>0.0</td>\n",
              "      <td>0.0</td>\n",
              "      <td>0.0</td>\n",
              "      <td>0.0</td>\n",
              "      <td>50.0</td>\n",
              "      <td>0.0</td>\n",
              "      <td>0.0</td>\n",
              "      <td>0.0</td>\n",
              "      <td>0.0</td>\n",
              "      <td>400.0</td>\n",
              "      <td>0.0</td>\n",
              "      <td>0.0</td>\n",
              "      <td>0.0</td>\n",
              "      <td>0.0</td>\n",
              "      <td>0.0</td>\n",
              "      <td>0.0</td>\n",
              "      <td>0.0</td>\n",
              "      <td>0.0</td>\n",
              "      <td>0.0</td>\n",
              "      <td>0.0</td>\n",
              "      <td>0.0</td>\n",
              "      <td>0.0</td>\n",
              "      <td>0.0</td>\n",
              "      <td>0.0</td>\n",
              "      <td>0.0</td>\n",
              "      <td>0.0</td>\n",
              "      <td>10.0</td>\n",
              "      <td>11.0</td>\n",
              "      <td>1047.0</td>\n",
              "      <td>0.0</td>\n",
              "      <td>0.0</td>\n",
              "      <td>0.0</td>\n",
              "      <td>0.0</td>\n",
              "      <td>0.0</td>\n",
              "      <td>5</td>\n",
              "      <td>1</td>\n",
              "      <td>2012</td>\n",
              "      <td>3</td>\n",
              "    </tr>\n",
              "    <tr>\n",
              "      <th>...</th>\n",
              "      <td>...</td>\n",
              "      <td>...</td>\n",
              "      <td>...</td>\n",
              "      <td>...</td>\n",
              "      <td>...</td>\n",
              "      <td>...</td>\n",
              "      <td>...</td>\n",
              "      <td>...</td>\n",
              "      <td>...</td>\n",
              "      <td>...</td>\n",
              "      <td>...</td>\n",
              "      <td>...</td>\n",
              "      <td>...</td>\n",
              "      <td>...</td>\n",
              "      <td>...</td>\n",
              "      <td>...</td>\n",
              "      <td>...</td>\n",
              "      <td>...</td>\n",
              "      <td>...</td>\n",
              "      <td>...</td>\n",
              "      <td>...</td>\n",
              "      <td>...</td>\n",
              "      <td>...</td>\n",
              "      <td>...</td>\n",
              "      <td>...</td>\n",
              "      <td>...</td>\n",
              "      <td>...</td>\n",
              "      <td>...</td>\n",
              "      <td>...</td>\n",
              "      <td>...</td>\n",
              "      <td>...</td>\n",
              "      <td>...</td>\n",
              "      <td>...</td>\n",
              "      <td>...</td>\n",
              "      <td>...</td>\n",
              "      <td>...</td>\n",
              "      <td>...</td>\n",
              "      <td>...</td>\n",
              "      <td>...</td>\n",
              "      <td>...</td>\n",
              "      <td>...</td>\n",
              "      <td>...</td>\n",
              "      <td>...</td>\n",
              "      <td>...</td>\n",
              "      <td>...</td>\n",
              "      <td>...</td>\n",
              "      <td>...</td>\n",
              "      <td>...</td>\n",
              "      <td>...</td>\n",
              "      <td>...</td>\n",
              "      <td>...</td>\n",
              "      <td>...</td>\n",
              "      <td>...</td>\n",
              "      <td>...</td>\n",
              "      <td>...</td>\n",
              "      <td>...</td>\n",
              "      <td>...</td>\n",
              "      <td>...</td>\n",
              "      <td>...</td>\n",
              "      <td>...</td>\n",
              "      <td>...</td>\n",
              "      <td>...</td>\n",
              "      <td>...</td>\n",
              "      <td>...</td>\n",
              "      <td>...</td>\n",
              "      <td>...</td>\n",
              "      <td>...</td>\n",
              "      <td>...</td>\n",
              "      <td>...</td>\n",
              "      <td>...</td>\n",
              "      <td>...</td>\n",
              "      <td>...</td>\n",
              "      <td>...</td>\n",
              "      <td>...</td>\n",
              "      <td>...</td>\n",
              "      <td>...</td>\n",
              "      <td>...</td>\n",
              "      <td>...</td>\n",
              "      <td>...</td>\n",
              "      <td>...</td>\n",
              "      <td>...</td>\n",
              "    </tr>\n",
              "    <tr>\n",
              "      <th>2017-01-05</th>\n",
              "      <td>0.0</td>\n",
              "      <td>0.0</td>\n",
              "      <td>0.0</td>\n",
              "      <td>0.0</td>\n",
              "      <td>0.0</td>\n",
              "      <td>0.0</td>\n",
              "      <td>0.0</td>\n",
              "      <td>0.0</td>\n",
              "      <td>0.0</td>\n",
              "      <td>0.0</td>\n",
              "      <td>0.0</td>\n",
              "      <td>0.0</td>\n",
              "      <td>0.0</td>\n",
              "      <td>0.0</td>\n",
              "      <td>0.0</td>\n",
              "      <td>4000.0</td>\n",
              "      <td>0.0</td>\n",
              "      <td>0.0</td>\n",
              "      <td>0.0</td>\n",
              "      <td>0.0</td>\n",
              "      <td>0.0</td>\n",
              "      <td>0.0</td>\n",
              "      <td>0.0</td>\n",
              "      <td>0.0</td>\n",
              "      <td>0.0</td>\n",
              "      <td>0.0</td>\n",
              "      <td>0.0</td>\n",
              "      <td>0.0</td>\n",
              "      <td>0.0</td>\n",
              "      <td>0.0</td>\n",
              "      <td>0.0</td>\n",
              "      <td>0.0</td>\n",
              "      <td>0.0</td>\n",
              "      <td>0.0</td>\n",
              "      <td>0.0</td>\n",
              "      <td>0.0</td>\n",
              "      <td>0.0</td>\n",
              "      <td>0.0</td>\n",
              "      <td>0.0</td>\n",
              "      <td>0.0</td>\n",
              "      <td>...</td>\n",
              "      <td>0.0</td>\n",
              "      <td>0.0</td>\n",
              "      <td>0.0</td>\n",
              "      <td>0.0</td>\n",
              "      <td>0.0</td>\n",
              "      <td>0.0</td>\n",
              "      <td>0.0</td>\n",
              "      <td>0.0</td>\n",
              "      <td>0.0</td>\n",
              "      <td>0.0</td>\n",
              "      <td>0.0</td>\n",
              "      <td>0.0</td>\n",
              "      <td>0.0</td>\n",
              "      <td>0.0</td>\n",
              "      <td>0.0</td>\n",
              "      <td>0.0</td>\n",
              "      <td>0.0</td>\n",
              "      <td>0.0</td>\n",
              "      <td>0.0</td>\n",
              "      <td>0.0</td>\n",
              "      <td>0.0</td>\n",
              "      <td>0.0</td>\n",
              "      <td>0.0</td>\n",
              "      <td>0.0</td>\n",
              "      <td>0.0</td>\n",
              "      <td>0.0</td>\n",
              "      <td>0.0</td>\n",
              "      <td>0.0</td>\n",
              "      <td>0.0</td>\n",
              "      <td>0.0</td>\n",
              "      <td>0.0</td>\n",
              "      <td>0.0</td>\n",
              "      <td>0.0</td>\n",
              "      <td>0.0</td>\n",
              "      <td>0.0</td>\n",
              "      <td>0.0</td>\n",
              "      <td>5</td>\n",
              "      <td>1</td>\n",
              "      <td>2017</td>\n",
              "      <td>3</td>\n",
              "    </tr>\n",
              "    <tr>\n",
              "      <th>2017-01-06</th>\n",
              "      <td>0.0</td>\n",
              "      <td>0.0</td>\n",
              "      <td>0.0</td>\n",
              "      <td>0.0</td>\n",
              "      <td>0.0</td>\n",
              "      <td>0.0</td>\n",
              "      <td>0.0</td>\n",
              "      <td>0.0</td>\n",
              "      <td>0.0</td>\n",
              "      <td>0.0</td>\n",
              "      <td>0.0</td>\n",
              "      <td>0.0</td>\n",
              "      <td>0.0</td>\n",
              "      <td>0.0</td>\n",
              "      <td>0.0</td>\n",
              "      <td>0.0</td>\n",
              "      <td>0.0</td>\n",
              "      <td>0.0</td>\n",
              "      <td>0.0</td>\n",
              "      <td>0.0</td>\n",
              "      <td>0.0</td>\n",
              "      <td>0.0</td>\n",
              "      <td>0.0</td>\n",
              "      <td>0.0</td>\n",
              "      <td>1600.0</td>\n",
              "      <td>0.0</td>\n",
              "      <td>0.0</td>\n",
              "      <td>0.0</td>\n",
              "      <td>0.0</td>\n",
              "      <td>0.0</td>\n",
              "      <td>0.0</td>\n",
              "      <td>0.0</td>\n",
              "      <td>0.0</td>\n",
              "      <td>0.0</td>\n",
              "      <td>0.0</td>\n",
              "      <td>0.0</td>\n",
              "      <td>0.0</td>\n",
              "      <td>0.0</td>\n",
              "      <td>0.0</td>\n",
              "      <td>0.0</td>\n",
              "      <td>...</td>\n",
              "      <td>0.0</td>\n",
              "      <td>0.0</td>\n",
              "      <td>0.0</td>\n",
              "      <td>0.0</td>\n",
              "      <td>0.0</td>\n",
              "      <td>0.0</td>\n",
              "      <td>0.0</td>\n",
              "      <td>0.0</td>\n",
              "      <td>0.0</td>\n",
              "      <td>0.0</td>\n",
              "      <td>0.0</td>\n",
              "      <td>0.0</td>\n",
              "      <td>0.0</td>\n",
              "      <td>0.0</td>\n",
              "      <td>0.0</td>\n",
              "      <td>0.0</td>\n",
              "      <td>0.0</td>\n",
              "      <td>0.0</td>\n",
              "      <td>0.0</td>\n",
              "      <td>0.0</td>\n",
              "      <td>0.0</td>\n",
              "      <td>0.0</td>\n",
              "      <td>0.0</td>\n",
              "      <td>0.0</td>\n",
              "      <td>0.0</td>\n",
              "      <td>0.0</td>\n",
              "      <td>0.0</td>\n",
              "      <td>0.0</td>\n",
              "      <td>0.0</td>\n",
              "      <td>0.0</td>\n",
              "      <td>0.0</td>\n",
              "      <td>0.0</td>\n",
              "      <td>0.0</td>\n",
              "      <td>0.0</td>\n",
              "      <td>0.0</td>\n",
              "      <td>0.0</td>\n",
              "      <td>6</td>\n",
              "      <td>1</td>\n",
              "      <td>2017</td>\n",
              "      <td>4</td>\n",
              "    </tr>\n",
              "    <tr>\n",
              "      <th>2017-01-07</th>\n",
              "      <td>0.0</td>\n",
              "      <td>0.0</td>\n",
              "      <td>0.0</td>\n",
              "      <td>0.0</td>\n",
              "      <td>0.0</td>\n",
              "      <td>0.0</td>\n",
              "      <td>0.0</td>\n",
              "      <td>0.0</td>\n",
              "      <td>0.0</td>\n",
              "      <td>0.0</td>\n",
              "      <td>0.0</td>\n",
              "      <td>0.0</td>\n",
              "      <td>0.0</td>\n",
              "      <td>0.0</td>\n",
              "      <td>0.0</td>\n",
              "      <td>0.0</td>\n",
              "      <td>0.0</td>\n",
              "      <td>0.0</td>\n",
              "      <td>0.0</td>\n",
              "      <td>0.0</td>\n",
              "      <td>0.0</td>\n",
              "      <td>0.0</td>\n",
              "      <td>0.0</td>\n",
              "      <td>0.0</td>\n",
              "      <td>0.0</td>\n",
              "      <td>0.0</td>\n",
              "      <td>0.0</td>\n",
              "      <td>0.0</td>\n",
              "      <td>0.0</td>\n",
              "      <td>0.0</td>\n",
              "      <td>0.0</td>\n",
              "      <td>0.0</td>\n",
              "      <td>0.0</td>\n",
              "      <td>0.0</td>\n",
              "      <td>0.0</td>\n",
              "      <td>0.0</td>\n",
              "      <td>0.0</td>\n",
              "      <td>0.0</td>\n",
              "      <td>0.0</td>\n",
              "      <td>0.0</td>\n",
              "      <td>...</td>\n",
              "      <td>0.0</td>\n",
              "      <td>0.0</td>\n",
              "      <td>0.0</td>\n",
              "      <td>0.0</td>\n",
              "      <td>0.0</td>\n",
              "      <td>0.0</td>\n",
              "      <td>0.0</td>\n",
              "      <td>0.0</td>\n",
              "      <td>0.0</td>\n",
              "      <td>0.0</td>\n",
              "      <td>0.0</td>\n",
              "      <td>0.0</td>\n",
              "      <td>0.0</td>\n",
              "      <td>0.0</td>\n",
              "      <td>0.0</td>\n",
              "      <td>0.0</td>\n",
              "      <td>0.0</td>\n",
              "      <td>0.0</td>\n",
              "      <td>0.0</td>\n",
              "      <td>0.0</td>\n",
              "      <td>0.0</td>\n",
              "      <td>0.0</td>\n",
              "      <td>0.0</td>\n",
              "      <td>0.0</td>\n",
              "      <td>0.0</td>\n",
              "      <td>0.0</td>\n",
              "      <td>0.0</td>\n",
              "      <td>0.0</td>\n",
              "      <td>0.0</td>\n",
              "      <td>0.0</td>\n",
              "      <td>0.0</td>\n",
              "      <td>0.0</td>\n",
              "      <td>0.0</td>\n",
              "      <td>0.0</td>\n",
              "      <td>0.0</td>\n",
              "      <td>0.0</td>\n",
              "      <td>7</td>\n",
              "      <td>1</td>\n",
              "      <td>2017</td>\n",
              "      <td>5</td>\n",
              "    </tr>\n",
              "    <tr>\n",
              "      <th>2017-01-08</th>\n",
              "      <td>0.0</td>\n",
              "      <td>0.0</td>\n",
              "      <td>0.0</td>\n",
              "      <td>0.0</td>\n",
              "      <td>0.0</td>\n",
              "      <td>0.0</td>\n",
              "      <td>0.0</td>\n",
              "      <td>0.0</td>\n",
              "      <td>0.0</td>\n",
              "      <td>0.0</td>\n",
              "      <td>0.0</td>\n",
              "      <td>0.0</td>\n",
              "      <td>0.0</td>\n",
              "      <td>0.0</td>\n",
              "      <td>0.0</td>\n",
              "      <td>0.0</td>\n",
              "      <td>0.0</td>\n",
              "      <td>0.0</td>\n",
              "      <td>0.0</td>\n",
              "      <td>0.0</td>\n",
              "      <td>0.0</td>\n",
              "      <td>0.0</td>\n",
              "      <td>0.0</td>\n",
              "      <td>0.0</td>\n",
              "      <td>0.0</td>\n",
              "      <td>0.0</td>\n",
              "      <td>0.0</td>\n",
              "      <td>0.0</td>\n",
              "      <td>0.0</td>\n",
              "      <td>0.0</td>\n",
              "      <td>0.0</td>\n",
              "      <td>0.0</td>\n",
              "      <td>0.0</td>\n",
              "      <td>0.0</td>\n",
              "      <td>0.0</td>\n",
              "      <td>0.0</td>\n",
              "      <td>0.0</td>\n",
              "      <td>0.0</td>\n",
              "      <td>0.0</td>\n",
              "      <td>0.0</td>\n",
              "      <td>...</td>\n",
              "      <td>0.0</td>\n",
              "      <td>0.0</td>\n",
              "      <td>0.0</td>\n",
              "      <td>0.0</td>\n",
              "      <td>0.0</td>\n",
              "      <td>0.0</td>\n",
              "      <td>0.0</td>\n",
              "      <td>0.0</td>\n",
              "      <td>0.0</td>\n",
              "      <td>0.0</td>\n",
              "      <td>0.0</td>\n",
              "      <td>0.0</td>\n",
              "      <td>0.0</td>\n",
              "      <td>0.0</td>\n",
              "      <td>0.0</td>\n",
              "      <td>0.0</td>\n",
              "      <td>0.0</td>\n",
              "      <td>0.0</td>\n",
              "      <td>0.0</td>\n",
              "      <td>0.0</td>\n",
              "      <td>0.0</td>\n",
              "      <td>0.0</td>\n",
              "      <td>0.0</td>\n",
              "      <td>0.0</td>\n",
              "      <td>0.0</td>\n",
              "      <td>0.0</td>\n",
              "      <td>0.0</td>\n",
              "      <td>0.0</td>\n",
              "      <td>0.0</td>\n",
              "      <td>0.0</td>\n",
              "      <td>0.0</td>\n",
              "      <td>0.0</td>\n",
              "      <td>0.0</td>\n",
              "      <td>0.0</td>\n",
              "      <td>0.0</td>\n",
              "      <td>0.0</td>\n",
              "      <td>8</td>\n",
              "      <td>1</td>\n",
              "      <td>2017</td>\n",
              "      <td>6</td>\n",
              "    </tr>\n",
              "    <tr>\n",
              "      <th>2017-01-09</th>\n",
              "      <td>0.0</td>\n",
              "      <td>0.0</td>\n",
              "      <td>0.0</td>\n",
              "      <td>0.0</td>\n",
              "      <td>0.0</td>\n",
              "      <td>0.0</td>\n",
              "      <td>0.0</td>\n",
              "      <td>0.0</td>\n",
              "      <td>0.0</td>\n",
              "      <td>0.0</td>\n",
              "      <td>0.0</td>\n",
              "      <td>0.0</td>\n",
              "      <td>0.0</td>\n",
              "      <td>0.0</td>\n",
              "      <td>0.0</td>\n",
              "      <td>0.0</td>\n",
              "      <td>0.0</td>\n",
              "      <td>0.0</td>\n",
              "      <td>0.0</td>\n",
              "      <td>0.0</td>\n",
              "      <td>0.0</td>\n",
              "      <td>0.0</td>\n",
              "      <td>0.0</td>\n",
              "      <td>0.0</td>\n",
              "      <td>0.0</td>\n",
              "      <td>0.0</td>\n",
              "      <td>0.0</td>\n",
              "      <td>0.0</td>\n",
              "      <td>0.0</td>\n",
              "      <td>0.0</td>\n",
              "      <td>0.0</td>\n",
              "      <td>0.0</td>\n",
              "      <td>0.0</td>\n",
              "      <td>0.0</td>\n",
              "      <td>0.0</td>\n",
              "      <td>0.0</td>\n",
              "      <td>0.0</td>\n",
              "      <td>0.0</td>\n",
              "      <td>0.0</td>\n",
              "      <td>0.0</td>\n",
              "      <td>...</td>\n",
              "      <td>0.0</td>\n",
              "      <td>0.0</td>\n",
              "      <td>0.0</td>\n",
              "      <td>0.0</td>\n",
              "      <td>0.0</td>\n",
              "      <td>0.0</td>\n",
              "      <td>0.0</td>\n",
              "      <td>0.0</td>\n",
              "      <td>0.0</td>\n",
              "      <td>0.0</td>\n",
              "      <td>0.0</td>\n",
              "      <td>0.0</td>\n",
              "      <td>0.0</td>\n",
              "      <td>0.0</td>\n",
              "      <td>0.0</td>\n",
              "      <td>0.0</td>\n",
              "      <td>0.0</td>\n",
              "      <td>0.0</td>\n",
              "      <td>0.0</td>\n",
              "      <td>0.0</td>\n",
              "      <td>0.0</td>\n",
              "      <td>0.0</td>\n",
              "      <td>0.0</td>\n",
              "      <td>0.0</td>\n",
              "      <td>0.0</td>\n",
              "      <td>0.0</td>\n",
              "      <td>0.0</td>\n",
              "      <td>0.0</td>\n",
              "      <td>0.0</td>\n",
              "      <td>0.0</td>\n",
              "      <td>0.0</td>\n",
              "      <td>0.0</td>\n",
              "      <td>0.0</td>\n",
              "      <td>0.0</td>\n",
              "      <td>0.0</td>\n",
              "      <td>0.0</td>\n",
              "      <td>9</td>\n",
              "      <td>1</td>\n",
              "      <td>2017</td>\n",
              "      <td>0</td>\n",
              "    </tr>\n",
              "  </tbody>\n",
              "</table>\n",
              "<p>1836 rows × 2164 columns</p>\n",
              "</div>"
            ],
            "text/plain": [
              "Product_Code  Product_0001  Product_0002  ...  year  day_of_week\n",
              "Date                                      ...                   \n",
              "2012-01-01             0.0           0.0  ...  2012            6\n",
              "2012-01-02             0.0           0.0  ...  2012            0\n",
              "2012-01-03          1000.0           0.0  ...  2012            1\n",
              "2012-01-04           200.0           0.0  ...  2012            2\n",
              "2012-01-05           100.0           0.0  ...  2012            3\n",
              "...                    ...           ...  ...   ...          ...\n",
              "2017-01-05             0.0           0.0  ...  2017            3\n",
              "2017-01-06             0.0           0.0  ...  2017            4\n",
              "2017-01-07             0.0           0.0  ...  2017            5\n",
              "2017-01-08             0.0           0.0  ...  2017            6\n",
              "2017-01-09             0.0           0.0  ...  2017            0\n",
              "\n",
              "[1836 rows x 2164 columns]"
            ]
          },
          "metadata": {
            "tags": []
          },
          "execution_count": 240
        }
      ]
    },
    {
      "cell_type": "code",
      "metadata": {
        "id": "MDkcH-9CN73T"
      },
      "source": [
        ""
      ],
      "execution_count": null,
      "outputs": []
    }
  ]
}